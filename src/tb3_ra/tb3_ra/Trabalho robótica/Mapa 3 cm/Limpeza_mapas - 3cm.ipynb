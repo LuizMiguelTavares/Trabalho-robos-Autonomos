{
  "cells": [
    {
      "cell_type": "code",
      "execution_count": 33,
      "metadata": {
        "id": "atu8l8wKfPOf"
      },
      "outputs": [],
      "source": [
        "import pandas as pd\n",
        "import numpy as np\n",
        "import matplotlib.pyplot as plt"
      ]
    },
    {
      "cell_type": "code",
      "execution_count": 34,
      "metadata": {
        "id": "LxShtWPCRtE4"
      },
      "outputs": [],
      "source": [
        "mapa = pd.read_csv('Mapa_1.csv')  "
      ]
    },
    {
      "cell_type": "code",
      "execution_count": 35,
      "metadata": {
        "colab": {
          "base_uri": "https://localhost:8080/"
        },
        "id": "pdF-a6meLtvm",
        "outputId": "475cca92-111a-402c-bbc3-12f562ed3fe3"
      },
      "outputs": [
        {
          "data": {
            "text/plain": [
              "(38088, 3)"
            ]
          },
          "execution_count": 35,
          "metadata": {},
          "output_type": "execute_result"
        }
      ],
      "source": [
        "mapa.shape"
      ]
    },
    {
      "cell_type": "code",
      "execution_count": 36,
      "metadata": {
        "colab": {
          "base_uri": "https://localhost:8080/"
        },
        "id": "OG388g3jWo6l",
        "outputId": "f88a91e3-533a-416f-d287-033c5b12778b"
      },
      "outputs": [
        {
          "data": {
            "text/plain": [
              "(38088, 3)"
            ]
          },
          "execution_count": 36,
          "metadata": {},
          "output_type": "execute_result"
        }
      ],
      "source": [
        "mapa.shape # antigo"
      ]
    },
    {
      "cell_type": "code",
      "execution_count": 37,
      "metadata": {
        "colab": {
          "base_uri": "https://localhost:8080/",
          "height": 206
        },
        "id": "AAlFY8o8WrYs",
        "outputId": "6f25ecc2-4491-49ad-ee74-d39fcf4c2b95"
      },
      "outputs": [
        {
          "data": {
            "text/html": [
              "<div>\n",
              "<style scoped>\n",
              "    .dataframe tbody tr th:only-of-type {\n",
              "        vertical-align: middle;\n",
              "    }\n",
              "\n",
              "    .dataframe tbody tr th {\n",
              "        vertical-align: top;\n",
              "    }\n",
              "\n",
              "    .dataframe thead th {\n",
              "        text-align: right;\n",
              "    }\n",
              "</style>\n",
              "<table border=\"1\" class=\"dataframe\">\n",
              "  <thead>\n",
              "    <tr style=\"text-align: right;\">\n",
              "      <th></th>\n",
              "      <th>x grid</th>\n",
              "      <th>y grid</th>\n",
              "      <th>weight</th>\n",
              "    </tr>\n",
              "  </thead>\n",
              "  <tbody>\n",
              "    <tr>\n",
              "      <th>0</th>\n",
              "      <td>601</td>\n",
              "      <td>483</td>\n",
              "      <td>100</td>\n",
              "    </tr>\n",
              "    <tr>\n",
              "      <th>1</th>\n",
              "      <td>602</td>\n",
              "      <td>483</td>\n",
              "      <td>100</td>\n",
              "    </tr>\n",
              "    <tr>\n",
              "      <th>2</th>\n",
              "      <td>602</td>\n",
              "      <td>483</td>\n",
              "      <td>100</td>\n",
              "    </tr>\n",
              "    <tr>\n",
              "      <th>3</th>\n",
              "      <td>603</td>\n",
              "      <td>483</td>\n",
              "      <td>100</td>\n",
              "    </tr>\n",
              "    <tr>\n",
              "      <th>4</th>\n",
              "      <td>604</td>\n",
              "      <td>483</td>\n",
              "      <td>100</td>\n",
              "    </tr>\n",
              "  </tbody>\n",
              "</table>\n",
              "</div>"
            ],
            "text/plain": [
              "   x grid  y grid  weight\n",
              "0     601     483     100\n",
              "1     602     483     100\n",
              "2     602     483     100\n",
              "3     603     483     100\n",
              "4     604     483     100"
            ]
          },
          "execution_count": 37,
          "metadata": {},
          "output_type": "execute_result"
        }
      ],
      "source": [
        "mapa.head()"
      ]
    },
    {
      "cell_type": "code",
      "execution_count": 38,
      "metadata": {
        "id": "bOhMNd4byuZS"
      },
      "outputs": [],
      "source": [
        "x_grid = np.unique(mapa[\"x grid\"])\n",
        "y_grid = np.unique(mapa[\"y grid\"])"
      ]
    },
    {
      "cell_type": "code",
      "execution_count": 39,
      "metadata": {
        "colab": {
          "base_uri": "https://localhost:8080/"
        },
        "id": "eXaCgGBjy8Jx",
        "outputId": "358e587b-86e5-4546-8218-d91a648ac487"
      },
      "outputs": [
        {
          "data": {
            "text/plain": [
              "array([569, 570, 571, 572, 573, 574, 575, 576, 577, 578, 579, 580, 581,\n",
              "       582, 583, 584, 585, 586, 587, 588, 589, 590, 591, 592, 593, 594,\n",
              "       595, 596, 597, 598, 599, 600, 601, 602, 603, 604, 605, 606, 607,\n",
              "       608, 609, 610, 611, 612, 613, 614, 615, 616, 617, 618, 619, 620,\n",
              "       621, 622, 623, 624, 625, 626, 627, 628, 629, 630, 631, 632, 633,\n",
              "       634, 635, 636, 637, 638, 639, 640, 641, 642, 643, 644, 645, 646,\n",
              "       647, 648, 649, 650, 651, 652, 653, 654, 655, 656, 657, 658, 659,\n",
              "       660, 661, 662, 663, 664, 665, 666, 667, 668, 669, 670, 671, 672,\n",
              "       673, 674, 675, 676, 677, 678, 679, 680, 681, 682, 683, 684, 685,\n",
              "       686, 687, 688, 689, 690, 691, 692, 693, 694, 695, 696, 697, 698,\n",
              "       699, 700, 701, 702, 703, 704], dtype=int64)"
            ]
          },
          "execution_count": 39,
          "metadata": {},
          "output_type": "execute_result"
        }
      ],
      "source": [
        "x_grid"
      ]
    },
    {
      "cell_type": "code",
      "execution_count": 40,
      "metadata": {
        "colab": {
          "base_uri": "https://localhost:8080/"
        },
        "id": "vdX-3M0UzE56",
        "outputId": "72feb761-809b-4784-946e-6a2e21708167"
      },
      "outputs": [
        {
          "data": {
            "text/plain": [
              "array([413, 414, 415, 416, 417, 418, 419, 420, 421, 422, 423, 424, 425,\n",
              "       426, 427, 428, 429, 430, 431, 432, 433, 434, 435, 436, 437, 438,\n",
              "       439, 440, 441, 442, 443, 444, 445, 446, 447, 448, 449, 450, 451,\n",
              "       452, 453, 454, 455, 456, 457, 458, 459, 460, 461, 462, 463, 464,\n",
              "       465, 466, 467, 468, 469, 470, 471, 472, 473, 474, 475, 476, 477,\n",
              "       478, 479, 480, 481, 482, 483, 484, 485, 486, 487, 488, 489, 490,\n",
              "       491, 492, 493, 494, 495, 496, 497, 498, 499, 500, 501, 502, 503,\n",
              "       504, 505, 506, 507, 508, 509, 510, 511, 512, 513, 514, 515, 516,\n",
              "       517, 518, 519, 520, 521, 522, 523, 524, 525, 526, 527, 528, 529,\n",
              "       530, 531, 532, 533, 534, 535, 536, 537, 538, 539, 540, 541, 542,\n",
              "       543, 544, 545, 546, 547, 548, 549, 550, 551, 552, 553, 554, 555,\n",
              "       556, 557, 558, 559, 560, 561, 562, 563, 564, 565, 566, 567, 568,\n",
              "       569, 570, 571, 572, 573, 574, 575, 576, 577, 578, 579, 580, 581,\n",
              "       582, 583, 584, 585], dtype=int64)"
            ]
          },
          "execution_count": 40,
          "metadata": {},
          "output_type": "execute_result"
        }
      ],
      "source": [
        "y_grid"
      ]
    },
    {
      "cell_type": "code",
      "execution_count": 41,
      "metadata": {
        "colab": {
          "base_uri": "https://localhost:8080/"
        },
        "id": "ZHnJaOErEdHj",
        "outputId": "1416ceaa-f52c-4152-9a03-2b9da9b21073"
      },
      "outputs": [
        {
          "data": {
            "text/plain": [
              "23528"
            ]
          },
          "execution_count": 41,
          "metadata": {},
          "output_type": "execute_result"
        }
      ],
      "source": [
        "(len(x_grid))*len(y_grid)"
      ]
    },
    {
      "cell_type": "code",
      "execution_count": 42,
      "metadata": {
        "id": "_ZrUcGpA35nK"
      },
      "outputs": [],
      "source": [
        "mapa_2 = mapa.copy()"
      ]
    },
    {
      "cell_type": "code",
      "execution_count": 43,
      "metadata": {
        "colab": {
          "base_uri": "https://localhost:8080/",
          "height": 206
        },
        "id": "Wu2JP5Mz7SN4",
        "outputId": "307337d5-16d1-444d-b3d4-3e26d8140f32"
      },
      "outputs": [
        {
          "data": {
            "text/html": [
              "<div>\n",
              "<style scoped>\n",
              "    .dataframe tbody tr th:only-of-type {\n",
              "        vertical-align: middle;\n",
              "    }\n",
              "\n",
              "    .dataframe tbody tr th {\n",
              "        vertical-align: top;\n",
              "    }\n",
              "\n",
              "    .dataframe thead th {\n",
              "        text-align: right;\n",
              "    }\n",
              "</style>\n",
              "<table border=\"1\" class=\"dataframe\">\n",
              "  <thead>\n",
              "    <tr style=\"text-align: right;\">\n",
              "      <th></th>\n",
              "      <th>x grid</th>\n",
              "      <th>y grid</th>\n",
              "      <th>weight</th>\n",
              "    </tr>\n",
              "  </thead>\n",
              "  <tbody>\n",
              "    <tr>\n",
              "      <th>0</th>\n",
              "      <td>601</td>\n",
              "      <td>483</td>\n",
              "      <td>100</td>\n",
              "    </tr>\n",
              "    <tr>\n",
              "      <th>1</th>\n",
              "      <td>602</td>\n",
              "      <td>483</td>\n",
              "      <td>100</td>\n",
              "    </tr>\n",
              "    <tr>\n",
              "      <th>2</th>\n",
              "      <td>602</td>\n",
              "      <td>483</td>\n",
              "      <td>100</td>\n",
              "    </tr>\n",
              "    <tr>\n",
              "      <th>3</th>\n",
              "      <td>603</td>\n",
              "      <td>483</td>\n",
              "      <td>100</td>\n",
              "    </tr>\n",
              "    <tr>\n",
              "      <th>4</th>\n",
              "      <td>604</td>\n",
              "      <td>483</td>\n",
              "      <td>100</td>\n",
              "    </tr>\n",
              "  </tbody>\n",
              "</table>\n",
              "</div>"
            ],
            "text/plain": [
              "   x grid  y grid  weight\n",
              "0     601     483     100\n",
              "1     602     483     100\n",
              "2     602     483     100\n",
              "3     603     483     100\n",
              "4     604     483     100"
            ]
          },
          "execution_count": 43,
          "metadata": {},
          "output_type": "execute_result"
        }
      ],
      "source": [
        "mapa_2.head()"
      ]
    },
    {
      "cell_type": "code",
      "execution_count": 44,
      "metadata": {
        "id": "U9JbYUWH3iL6"
      },
      "outputs": [],
      "source": [
        "for i, x in enumerate(x_grid):\n",
        "  mapa_2[\"x grid\"][mapa_2.iloc[:, 0]==x] = i\n",
        "for j, y in enumerate(y_grid):\n",
        "  mapa_2[\"y grid\"][mapa_2.iloc[:, 1]==y] = j"
      ]
    },
    {
      "cell_type": "code",
      "execution_count": 45,
      "metadata": {
        "colab": {
          "base_uri": "https://localhost:8080/",
          "height": 206
        },
        "id": "VIOLs0HC8FoR",
        "outputId": "3a7b110c-4dee-4664-ffc3-a12aafa7380e"
      },
      "outputs": [
        {
          "data": {
            "text/html": [
              "<div>\n",
              "<style scoped>\n",
              "    .dataframe tbody tr th:only-of-type {\n",
              "        vertical-align: middle;\n",
              "    }\n",
              "\n",
              "    .dataframe tbody tr th {\n",
              "        vertical-align: top;\n",
              "    }\n",
              "\n",
              "    .dataframe thead th {\n",
              "        text-align: right;\n",
              "    }\n",
              "</style>\n",
              "<table border=\"1\" class=\"dataframe\">\n",
              "  <thead>\n",
              "    <tr style=\"text-align: right;\">\n",
              "      <th></th>\n",
              "      <th>x grid</th>\n",
              "      <th>y grid</th>\n",
              "      <th>weight</th>\n",
              "    </tr>\n",
              "  </thead>\n",
              "  <tbody>\n",
              "    <tr>\n",
              "      <th>0</th>\n",
              "      <td>32</td>\n",
              "      <td>70</td>\n",
              "      <td>100</td>\n",
              "    </tr>\n",
              "    <tr>\n",
              "      <th>1</th>\n",
              "      <td>33</td>\n",
              "      <td>70</td>\n",
              "      <td>100</td>\n",
              "    </tr>\n",
              "    <tr>\n",
              "      <th>2</th>\n",
              "      <td>33</td>\n",
              "      <td>70</td>\n",
              "      <td>100</td>\n",
              "    </tr>\n",
              "    <tr>\n",
              "      <th>3</th>\n",
              "      <td>34</td>\n",
              "      <td>70</td>\n",
              "      <td>100</td>\n",
              "    </tr>\n",
              "    <tr>\n",
              "      <th>4</th>\n",
              "      <td>35</td>\n",
              "      <td>70</td>\n",
              "      <td>100</td>\n",
              "    </tr>\n",
              "  </tbody>\n",
              "</table>\n",
              "</div>"
            ],
            "text/plain": [
              "   x grid  y grid  weight\n",
              "0      32      70     100\n",
              "1      33      70     100\n",
              "2      33      70     100\n",
              "3      34      70     100\n",
              "4      35      70     100"
            ]
          },
          "execution_count": 45,
          "metadata": {},
          "output_type": "execute_result"
        }
      ],
      "source": [
        "mapa_2.head()"
      ]
    },
    {
      "cell_type": "code",
      "execution_count": 46,
      "metadata": {
        "id": "2yD1xPJazNqO"
      },
      "outputs": [],
      "source": [
        "grid = np.zeros(len(x_grid)*len(y_grid)).reshape(len(x_grid), len(y_grid))\n",
        "grid = grid + 0.5"
      ]
    },
    {
      "cell_type": "code",
      "execution_count": 47,
      "metadata": {
        "colab": {
          "base_uri": "https://localhost:8080/"
        },
        "id": "6ivKekwyzuH-",
        "outputId": "a8504693-0c9e-4de5-feee-4bf55959df5f"
      },
      "outputs": [
        {
          "data": {
            "text/plain": [
              "array([[0.5, 0.5, 0.5, ..., 0.5, 0.5, 0.5],\n",
              "       [0.5, 0.5, 0.5, ..., 0.5, 0.5, 0.5],\n",
              "       [0.5, 0.5, 0.5, ..., 0.5, 0.5, 0.5],\n",
              "       ...,\n",
              "       [0.5, 0.5, 0.5, ..., 0.5, 0.5, 0.5],\n",
              "       [0.5, 0.5, 0.5, ..., 0.5, 0.5, 0.5],\n",
              "       [0.5, 0.5, 0.5, ..., 0.5, 0.5, 0.5]])"
            ]
          },
          "execution_count": 47,
          "metadata": {},
          "output_type": "execute_result"
        }
      ],
      "source": [
        "grid"
      ]
    },
    {
      "cell_type": "code",
      "execution_count": 48,
      "metadata": {
        "id": "xz7eTFscx54W"
      },
      "outputs": [],
      "source": [
        "for i, v in enumerate(mapa_2.values):\n",
        "  if v[2] == 100:\n",
        "    grid[v[0], v[1]] = grid[v[0], v[1]] * 0.5\n",
        "  elif v[2] == 0:\n",
        "    grid[v[0], v[1]] = grid[v[0], v[1]] * 1.7"
      ]
    },
    {
      "cell_type": "code",
      "execution_count": 49,
      "metadata": {
        "id": "d14al_HuNY3K"
      },
      "outputs": [],
      "source": [
        "grid = np.around(grid, 2)"
      ]
    },
    {
      "cell_type": "code",
      "execution_count": 50,
      "metadata": {
        "colab": {
          "base_uri": "https://localhost:8080/"
        },
        "id": "ntlocU_c8p7K",
        "outputId": "837b26e5-1252-41ec-e810-1b7dba162e7d"
      },
      "outputs": [
        {
          "data": {
            "text/plain": [
              "array([0.000e+00, 1.000e-02, 2.000e-02, 3.000e-02, 5.000e-02, 6.000e-02,\n",
              "       9.000e-02, 1.100e-01, 1.200e-01, 1.500e-01, 1.800e-01, 2.100e-01,\n",
              "       2.500e-01, 2.600e-01, 3.100e-01, 5.000e-01, 5.200e-01, 6.100e-01,\n",
              "       7.200e-01, 8.500e-01, 1.040e+00, 1.230e+00, 1.440e+00, 1.770e+00,\n",
              "       2.090e+00, 2.460e+00, 3.550e+00, 4.180e+00, 7.100e+00, 1.207e+01])"
            ]
          },
          "execution_count": 50,
          "metadata": {},
          "output_type": "execute_result"
        }
      ],
      "source": [
        "np.unique(grid)"
      ]
    },
    {
      "cell_type": "code",
      "execution_count": 51,
      "metadata": {
        "colab": {
          "base_uri": "https://localhost:8080/",
          "height": 206
        },
        "id": "ZCXHqNsBQEp-",
        "outputId": "ca5b3971-3820-41bd-ea62-1846b2024e3b"
      },
      "outputs": [
        {
          "data": {
            "text/html": [
              "<div>\n",
              "<style scoped>\n",
              "    .dataframe tbody tr th:only-of-type {\n",
              "        vertical-align: middle;\n",
              "    }\n",
              "\n",
              "    .dataframe tbody tr th {\n",
              "        vertical-align: top;\n",
              "    }\n",
              "\n",
              "    .dataframe thead th {\n",
              "        text-align: right;\n",
              "    }\n",
              "</style>\n",
              "<table border=\"1\" class=\"dataframe\">\n",
              "  <thead>\n",
              "    <tr style=\"text-align: right;\">\n",
              "      <th></th>\n",
              "      <th>x grid</th>\n",
              "      <th>y grid</th>\n",
              "      <th>weight</th>\n",
              "    </tr>\n",
              "  </thead>\n",
              "  <tbody>\n",
              "    <tr>\n",
              "      <th>0</th>\n",
              "      <td>0.0</td>\n",
              "      <td>0.0</td>\n",
              "      <td>0.0</td>\n",
              "    </tr>\n",
              "    <tr>\n",
              "      <th>1</th>\n",
              "      <td>0.0</td>\n",
              "      <td>0.0</td>\n",
              "      <td>0.0</td>\n",
              "    </tr>\n",
              "    <tr>\n",
              "      <th>2</th>\n",
              "      <td>0.0</td>\n",
              "      <td>0.0</td>\n",
              "      <td>0.0</td>\n",
              "    </tr>\n",
              "    <tr>\n",
              "      <th>3</th>\n",
              "      <td>0.0</td>\n",
              "      <td>0.0</td>\n",
              "      <td>0.0</td>\n",
              "    </tr>\n",
              "    <tr>\n",
              "      <th>4</th>\n",
              "      <td>0.0</td>\n",
              "      <td>0.0</td>\n",
              "      <td>0.0</td>\n",
              "    </tr>\n",
              "  </tbody>\n",
              "</table>\n",
              "</div>"
            ],
            "text/plain": [
              "   x grid  y grid  weight\n",
              "0     0.0     0.0     0.0\n",
              "1     0.0     0.0     0.0\n",
              "2     0.0     0.0     0.0\n",
              "3     0.0     0.0     0.0\n",
              "4     0.0     0.0     0.0"
            ]
          },
          "execution_count": 51,
          "metadata": {},
          "output_type": "execute_result"
        }
      ],
      "source": [
        "x, y = grid.shape\n",
        "d = {'x grid': np.zeros(x*y), 'y grid': np.zeros(x*y), 'weight': np.zeros(x*y)}\n",
        "df = pd.DataFrame(data=d)\n",
        "df.head()"
      ]
    },
    {
      "cell_type": "code",
      "execution_count": 52,
      "metadata": {
        "id": "xBA_uheTPwJB"
      },
      "outputs": [],
      "source": [
        "aux = 0\n",
        "for i in range(x):\n",
        "  for j in range(y):\n",
        "    df.iloc[aux]['x grid'] = int(i)\n",
        "    df.iloc[aux]['y grid'] = int(j)\n",
        "    df.iloc[aux]['weight'] = grid[i, j]\n",
        "    aux = aux + 1"
      ]
    },
    {
      "cell_type": "code",
      "execution_count": 53,
      "metadata": {
        "colab": {
          "base_uri": "https://localhost:8080/",
          "height": 206
        },
        "id": "Bz2W7vScUARO",
        "outputId": "327cb4e6-946c-4a19-f70c-e12fa6e1128a"
      },
      "outputs": [
        {
          "data": {
            "text/html": [
              "<div>\n",
              "<style scoped>\n",
              "    .dataframe tbody tr th:only-of-type {\n",
              "        vertical-align: middle;\n",
              "    }\n",
              "\n",
              "    .dataframe tbody tr th {\n",
              "        vertical-align: top;\n",
              "    }\n",
              "\n",
              "    .dataframe thead th {\n",
              "        text-align: right;\n",
              "    }\n",
              "</style>\n",
              "<table border=\"1\" class=\"dataframe\">\n",
              "  <thead>\n",
              "    <tr style=\"text-align: right;\">\n",
              "      <th></th>\n",
              "      <th>x grid</th>\n",
              "      <th>y grid</th>\n",
              "      <th>weight</th>\n",
              "    </tr>\n",
              "  </thead>\n",
              "  <tbody>\n",
              "    <tr>\n",
              "      <th>0</th>\n",
              "      <td>0.0</td>\n",
              "      <td>0.0</td>\n",
              "      <td>0.5</td>\n",
              "    </tr>\n",
              "    <tr>\n",
              "      <th>1</th>\n",
              "      <td>0.0</td>\n",
              "      <td>1.0</td>\n",
              "      <td>0.5</td>\n",
              "    </tr>\n",
              "    <tr>\n",
              "      <th>2</th>\n",
              "      <td>0.0</td>\n",
              "      <td>2.0</td>\n",
              "      <td>0.5</td>\n",
              "    </tr>\n",
              "    <tr>\n",
              "      <th>3</th>\n",
              "      <td>0.0</td>\n",
              "      <td>3.0</td>\n",
              "      <td>0.5</td>\n",
              "    </tr>\n",
              "    <tr>\n",
              "      <th>4</th>\n",
              "      <td>0.0</td>\n",
              "      <td>4.0</td>\n",
              "      <td>0.5</td>\n",
              "    </tr>\n",
              "  </tbody>\n",
              "</table>\n",
              "</div>"
            ],
            "text/plain": [
              "   x grid  y grid  weight\n",
              "0     0.0     0.0     0.5\n",
              "1     0.0     1.0     0.5\n",
              "2     0.0     2.0     0.5\n",
              "3     0.0     3.0     0.5\n",
              "4     0.0     4.0     0.5"
            ]
          },
          "execution_count": 53,
          "metadata": {},
          "output_type": "execute_result"
        }
      ],
      "source": [
        "df.head()"
      ]
    },
    {
      "cell_type": "code",
      "execution_count": 54,
      "metadata": {
        "id": "InD_rQ5IVBTW"
      },
      "outputs": [],
      "source": [
        "df['weight'][(df['weight']<0.5) & (df['weight']!=0.5)] = 100\n",
        "df['weight'][df['weight']==0.5] = 50\n",
        "df['weight'][(df['weight']>0.5) & (df['weight']<50)] = 0"
      ]
    },
    {
      "cell_type": "code",
      "execution_count": 55,
      "metadata": {
        "colab": {
          "base_uri": "https://localhost:8080/",
          "height": 206
        },
        "id": "poZqwiZyWQ54",
        "outputId": "67bd054b-7949-4f67-801d-eec964ac3a18"
      },
      "outputs": [
        {
          "data": {
            "text/html": [
              "<div>\n",
              "<style scoped>\n",
              "    .dataframe tbody tr th:only-of-type {\n",
              "        vertical-align: middle;\n",
              "    }\n",
              "\n",
              "    .dataframe tbody tr th {\n",
              "        vertical-align: top;\n",
              "    }\n",
              "\n",
              "    .dataframe thead th {\n",
              "        text-align: right;\n",
              "    }\n",
              "</style>\n",
              "<table border=\"1\" class=\"dataframe\">\n",
              "  <thead>\n",
              "    <tr style=\"text-align: right;\">\n",
              "      <th></th>\n",
              "      <th>x grid</th>\n",
              "      <th>y grid</th>\n",
              "      <th>weight</th>\n",
              "    </tr>\n",
              "  </thead>\n",
              "  <tbody>\n",
              "    <tr>\n",
              "      <th>0</th>\n",
              "      <td>0.0</td>\n",
              "      <td>0.0</td>\n",
              "      <td>50.0</td>\n",
              "    </tr>\n",
              "    <tr>\n",
              "      <th>1</th>\n",
              "      <td>0.0</td>\n",
              "      <td>1.0</td>\n",
              "      <td>50.0</td>\n",
              "    </tr>\n",
              "    <tr>\n",
              "      <th>2</th>\n",
              "      <td>0.0</td>\n",
              "      <td>2.0</td>\n",
              "      <td>50.0</td>\n",
              "    </tr>\n",
              "    <tr>\n",
              "      <th>3</th>\n",
              "      <td>0.0</td>\n",
              "      <td>3.0</td>\n",
              "      <td>50.0</td>\n",
              "    </tr>\n",
              "    <tr>\n",
              "      <th>4</th>\n",
              "      <td>0.0</td>\n",
              "      <td>4.0</td>\n",
              "      <td>50.0</td>\n",
              "    </tr>\n",
              "  </tbody>\n",
              "</table>\n",
              "</div>"
            ],
            "text/plain": [
              "   x grid  y grid  weight\n",
              "0     0.0     0.0    50.0\n",
              "1     0.0     1.0    50.0\n",
              "2     0.0     2.0    50.0\n",
              "3     0.0     3.0    50.0\n",
              "4     0.0     4.0    50.0"
            ]
          },
          "execution_count": 55,
          "metadata": {},
          "output_type": "execute_result"
        }
      ],
      "source": [
        "df.head()"
      ]
    },
    {
      "cell_type": "code",
      "execution_count": 56,
      "metadata": {
        "colab": {
          "base_uri": "https://localhost:8080/",
          "height": 265
        },
        "id": "HYBcQiZzT3nU",
        "outputId": "11bd5b22-6833-467e-8aa5-fa3aaea1aed0"
      },
      "outputs": [
        {
          "data": {
            "image/png": "[encoded data removed]",
            "text/plain": [
              "<Figure size 432x288 with 1 Axes>"
            ]
          },
          "metadata": {
            "needs_background": "light"
          },
          "output_type": "display_data"
        }
      ],
      "source": [
        "plt.scatter(df[\"x grid\"], df[\"y grid\"], s=0.1, c = df[\"weight\"])\n",
        "plt.savefig('mapa_1_3cm',dpi = 2400)\n",
        "plt.show()"
      ]
    },
    {
      "cell_type": "code",
      "execution_count": 57,
      "metadata": {},
      "outputs": [],
      "source": [
        "#plt.scatter(df[\"x grid\"], df[\"y grid\"], s=0.0001, c = df[\"weight\"])\n",
        "#plt.savefig('mapa_9_07_17_menor05',dpi = 2400)\n",
        "#plt.show()"
      ]
    },
    {
      "cell_type": "code",
      "execution_count": 58,
      "metadata": {
        "id": "VXuGHwDzf1Ag"
      },
      "outputs": [],
      "source": [
        "df.to_csv('mapa_1_3cm_limpo.csv', index=False)"
      ]
    },
    {
      "cell_type": "markdown",
      "metadata": {
        "id": "k-5Lnm0YrIjm"
      },
      "source": [
        "# Identificação de objetos"
      ]
    },
    {
      "cell_type": "code",
      "execution_count": 59,
      "metadata": {
        "colab": {
          "base_uri": "https://localhost:8080/",
          "height": 206
        },
        "id": "Y7jNBPcIrW-5",
        "outputId": "623992b2-251c-4a37-8d4e-804ee0f83f4b"
      },
      "outputs": [
        {
          "data": {
            "text/html": [
              "<div>\n",
              "<style scoped>\n",
              "    .dataframe tbody tr th:only-of-type {\n",
              "        vertical-align: middle;\n",
              "    }\n",
              "\n",
              "    .dataframe tbody tr th {\n",
              "        vertical-align: top;\n",
              "    }\n",
              "\n",
              "    .dataframe thead th {\n",
              "        text-align: right;\n",
              "    }\n",
              "</style>\n",
              "<table border=\"1\" class=\"dataframe\">\n",
              "  <thead>\n",
              "    <tr style=\"text-align: right;\">\n",
              "      <th></th>\n",
              "      <th>x grid</th>\n",
              "      <th>y grid</th>\n",
              "      <th>weight</th>\n",
              "    </tr>\n",
              "  </thead>\n",
              "  <tbody>\n",
              "    <tr>\n",
              "      <th>87</th>\n",
              "      <td>0.0</td>\n",
              "      <td>87.0</td>\n",
              "      <td>0.0</td>\n",
              "    </tr>\n",
              "    <tr>\n",
              "      <th>258</th>\n",
              "      <td>1.0</td>\n",
              "      <td>85.0</td>\n",
              "      <td>0.0</td>\n",
              "    </tr>\n",
              "    <tr>\n",
              "      <th>259</th>\n",
              "      <td>1.0</td>\n",
              "      <td>86.0</td>\n",
              "      <td>0.0</td>\n",
              "    </tr>\n",
              "    <tr>\n",
              "      <th>261</th>\n",
              "      <td>1.0</td>\n",
              "      <td>88.0</td>\n",
              "      <td>0.0</td>\n",
              "    </tr>\n",
              "    <tr>\n",
              "      <th>262</th>\n",
              "      <td>1.0</td>\n",
              "      <td>89.0</td>\n",
              "      <td>0.0</td>\n",
              "    </tr>\n",
              "  </tbody>\n",
              "</table>\n",
              "</div>"
            ],
            "text/plain": [
              "     x grid  y grid  weight\n",
              "87      0.0    87.0     0.0\n",
              "258     1.0    85.0     0.0\n",
              "259     1.0    86.0     0.0\n",
              "261     1.0    88.0     0.0\n",
              "262     1.0    89.0     0.0"
            ]
          },
          "execution_count": 59,
          "metadata": {},
          "output_type": "execute_result"
        }
      ],
      "source": [
        "df_ocupados = df[df['weight']==0]\n",
        "df_ocupados.head()"
      ]
    },
    {
      "cell_type": "code",
      "execution_count": 60,
      "metadata": {
        "colab": {
          "base_uri": "https://localhost:8080/"
        },
        "id": "yW19OWb0vrFJ",
        "outputId": "c15d5ffd-56e2-4b19-ce85-1cf4bfb564d0"
      },
      "outputs": [
        {
          "data": {
            "text/plain": [
              "(272, 3)"
            ]
          },
          "execution_count": 60,
          "metadata": {},
          "output_type": "execute_result"
        }
      ],
      "source": [
        "df_ocupados.shape"
      ]
    },
    {
      "cell_type": "code",
      "execution_count": 61,
      "metadata": {
        "id": "xNY09LdgsgEC"
      },
      "outputs": [],
      "source": [
        "for x in df_ocupados.values:\n",
        "  for i in range(3):\n",
        "    for j in range(3):\n",
        "      pass"
      ]
    },
    {
      "cell_type": "code",
      "execution_count": 62,
      "metadata": {
        "id": "E1vDdr7itazT"
      },
      "outputs": [],
      "source": [
        "if 0 in dict(df_ocupados.iloc[:,:-1]):\n",
        "  print(\"true\")"
      ]
    },
    {
      "cell_type": "code",
      "execution_count": 63,
      "metadata": {
        "colab": {
          "base_uri": "https://localhost:8080/"
        },
        "id": "joOuHN4DvJx0",
        "outputId": "79237c8b-b450-49a9-83f9-66f1063ee419"
      },
      "outputs": [
        {
          "data": {
            "text/plain": [
              "{'x grid': 87         0.0\n",
              " 258        1.0\n",
              " 259        1.0\n",
              " 261        1.0\n",
              " 262        1.0\n",
              "          ...  \n",
              " 22715    131.0\n",
              " 22747    131.0\n",
              " 22918    132.0\n",
              " 23235    134.0\n",
              " 23408    135.0\n",
              " Name: x grid, Length: 272, dtype: float64,\n",
              " 'y grid': 87       87.0\n",
              " 258      85.0\n",
              " 259      86.0\n",
              " 261      88.0\n",
              " 262      89.0\n",
              "          ... \n",
              " 22715    52.0\n",
              " 22747    84.0\n",
              " 22918    82.0\n",
              " 23235    53.0\n",
              " 23408    53.0\n",
              " Name: y grid, Length: 272, dtype: float64}"
            ]
          },
          "execution_count": 63,
          "metadata": {},
          "output_type": "execute_result"
        }
      ],
      "source": [
        "dict(df_ocupados.iloc[:,:-1])"
      ]
    }
  ],
  "metadata": {
    "colab": {
      "provenance": []
    },
    "kernelspec": {
      "display_name": "p37",
      "language": "python",
      "name": "python3"
    },
    "language_info": {
      "codemirror_mode": {
        "name": "ipython",
        "version": 3
      },
      "file_extension": ".py",
      "mimetype": "text/x-python",
      "name": "python",
      "nbconvert_exporter": "python",
      "pygments_lexer": "ipython3",
      "version": "3.7.13 (default, Mar 28 2022, 08:03:21) [MSC v.1916 64 bit (AMD64)]"
    },
    "vscode": {
      "interpreter": {
        "hash": "f9b53f1170c64482d885b10384497ac63417a5cdae27a7de25292481bdce470e"
      }
    }
  },
  "nbformat": 4,
  "nbformat_minor": 0
}
