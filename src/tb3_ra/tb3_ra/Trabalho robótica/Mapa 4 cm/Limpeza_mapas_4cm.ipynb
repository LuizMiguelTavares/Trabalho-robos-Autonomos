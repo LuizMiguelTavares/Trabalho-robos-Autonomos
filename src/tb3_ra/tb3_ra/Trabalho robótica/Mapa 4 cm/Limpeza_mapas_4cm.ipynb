{
  "cells": [
    {
      "cell_type": "code",
      "execution_count": 1,
      "metadata": {
        "id": "atu8l8wKfPOf"
      },
      "outputs": [],
      "source": [
        "import pandas as pd\n",
        "import numpy as np\n",
        "import matplotlib.pyplot as plt"
      ]
    },
    {
      "cell_type": "code",
      "execution_count": 2,
      "metadata": {
        "id": "LxShtWPCRtE4"
      },
      "outputs": [],
      "source": [
        "mapa = pd.read_csv('Mapa_2.csv')  "
      ]
    },
    {
      "cell_type": "code",
      "execution_count": 3,
      "metadata": {
        "colab": {
          "base_uri": "https://localhost:8080/"
        },
        "id": "pdF-a6meLtvm",
        "outputId": "475cca92-111a-402c-bbc3-12f562ed3fe3"
      },
      "outputs": [
        {
          "data": {
            "text/plain": [
              "(64481, 3)"
            ]
          },
          "execution_count": 3,
          "metadata": {},
          "output_type": "execute_result"
        }
      ],
      "source": [
        "mapa.shape"
      ]
    },
    {
      "cell_type": "code",
      "execution_count": 4,
      "metadata": {
        "colab": {
          "base_uri": "https://localhost:8080/",
          "height": 206
        },
        "id": "AAlFY8o8WrYs",
        "outputId": "6f25ecc2-4491-49ad-ee74-d39fcf4c2b95"
      },
      "outputs": [
        {
          "data": {
            "text/html": [
              "<div>\n",
              "<style scoped>\n",
              "    .dataframe tbody tr th:only-of-type {\n",
              "        vertical-align: middle;\n",
              "    }\n",
              "\n",
              "    .dataframe tbody tr th {\n",
              "        vertical-align: top;\n",
              "    }\n",
              "\n",
              "    .dataframe thead th {\n",
              "        text-align: right;\n",
              "    }\n",
              "</style>\n",
              "<table border=\"1\" class=\"dataframe\">\n",
              "  <thead>\n",
              "    <tr style=\"text-align: right;\">\n",
              "      <th></th>\n",
              "      <th>x grid</th>\n",
              "      <th>y grid</th>\n",
              "      <th>weight</th>\n",
              "    </tr>\n",
              "  </thead>\n",
              "  <tbody>\n",
              "    <tr>\n",
              "      <th>0</th>\n",
              "      <td>450</td>\n",
              "      <td>362</td>\n",
              "      <td>100</td>\n",
              "    </tr>\n",
              "    <tr>\n",
              "      <th>1</th>\n",
              "      <td>451</td>\n",
              "      <td>362</td>\n",
              "      <td>100</td>\n",
              "    </tr>\n",
              "    <tr>\n",
              "      <th>2</th>\n",
              "      <td>452</td>\n",
              "      <td>362</td>\n",
              "      <td>100</td>\n",
              "    </tr>\n",
              "    <tr>\n",
              "      <th>3</th>\n",
              "      <td>453</td>\n",
              "      <td>362</td>\n",
              "      <td>100</td>\n",
              "    </tr>\n",
              "    <tr>\n",
              "      <th>4</th>\n",
              "      <td>453</td>\n",
              "      <td>362</td>\n",
              "      <td>100</td>\n",
              "    </tr>\n",
              "  </tbody>\n",
              "</table>\n",
              "</div>"
            ],
            "text/plain": [
              "   x grid  y grid  weight\n",
              "0     450     362     100\n",
              "1     451     362     100\n",
              "2     452     362     100\n",
              "3     453     362     100\n",
              "4     453     362     100"
            ]
          },
          "execution_count": 4,
          "metadata": {},
          "output_type": "execute_result"
        }
      ],
      "source": [
        "mapa.head()"
      ]
    },
    {
      "cell_type": "code",
      "execution_count": 5,
      "metadata": {
        "id": "bOhMNd4byuZS"
      },
      "outputs": [],
      "source": [
        "x_grid = np.unique(mapa[\"x grid\"])\n",
        "y_grid = np.unique(mapa[\"y grid\"])"
      ]
    },
    {
      "cell_type": "code",
      "execution_count": 6,
      "metadata": {
        "colab": {
          "base_uri": "https://localhost:8080/"
        },
        "id": "eXaCgGBjy8Jx",
        "outputId": "358e587b-86e5-4546-8218-d91a648ac487"
      },
      "outputs": [
        {
          "data": {
            "text/plain": [
              "array([427, 428, 429, 430, 431, 432, 433, 434, 435, 436, 437, 438, 439,\n",
              "       440, 441, 442, 443, 444, 445, 446, 447, 448, 449, 450, 451, 452,\n",
              "       453, 454, 455, 456, 457, 458, 459, 460, 461, 462, 463, 464, 465,\n",
              "       466, 467, 468, 469, 470, 471, 472, 473, 474, 475, 476, 477, 478,\n",
              "       479, 480, 481, 482, 483, 484, 485, 486, 487, 488, 489, 490, 491,\n",
              "       492, 493, 494, 495, 496, 497, 498, 499, 500, 501, 502, 503, 504,\n",
              "       505, 506, 507, 508, 509, 510, 511, 512, 513, 514, 515, 516, 517,\n",
              "       518, 519, 520, 521, 522, 523, 524, 525, 526, 527, 528, 529, 530,\n",
              "       531, 532, 533, 534, 535, 536, 537, 538, 539, 540, 541, 542, 543,\n",
              "       544, 545, 546, 547, 548, 549, 550, 551, 552, 553, 554, 555, 556,\n",
              "       557, 558, 559, 560, 561, 562, 563, 564, 565, 566], dtype=int64)"
            ]
          },
          "execution_count": 6,
          "metadata": {},
          "output_type": "execute_result"
        }
      ],
      "source": [
        "x_grid"
      ]
    },
    {
      "cell_type": "code",
      "execution_count": 7,
      "metadata": {
        "colab": {
          "base_uri": "https://localhost:8080/"
        },
        "id": "vdX-3M0UzE56",
        "outputId": "72feb761-809b-4784-946e-6a2e21708167"
      },
      "outputs": [
        {
          "data": {
            "text/plain": [
              "array([310, 311, 312, 313, 314, 315, 316, 317, 318, 319, 320, 321, 322,\n",
              "       323, 324, 325, 326, 327, 328, 329, 330, 331, 332, 333, 334, 335,\n",
              "       336, 337, 338, 339, 340, 341, 342, 343, 344, 345, 346, 347, 348,\n",
              "       349, 350, 351, 352, 353, 354, 355, 356, 357, 358, 359, 360, 361,\n",
              "       362, 363, 364, 365, 366, 367, 368, 369, 370, 371, 372, 373, 374,\n",
              "       375, 376, 377, 378, 379, 380, 381, 382, 383, 384, 385, 386, 387,\n",
              "       388, 389, 390, 391, 392, 393, 394, 395, 396, 397, 398, 399, 400,\n",
              "       401, 402, 403, 404, 405, 406, 407, 408, 409, 410, 411, 412, 413,\n",
              "       414, 415, 416, 417, 418, 419, 420, 421, 422, 423, 424, 425, 426,\n",
              "       427, 428, 429, 430, 431, 432, 433, 434, 435, 436, 437, 438, 439],\n",
              "      dtype=int64)"
            ]
          },
          "execution_count": 7,
          "metadata": {},
          "output_type": "execute_result"
        }
      ],
      "source": [
        "y_grid"
      ]
    },
    {
      "cell_type": "code",
      "execution_count": 8,
      "metadata": {
        "colab": {
          "base_uri": "https://localhost:8080/"
        },
        "id": "ZHnJaOErEdHj",
        "outputId": "1416ceaa-f52c-4152-9a03-2b9da9b21073"
      },
      "outputs": [
        {
          "data": {
            "text/plain": [
              "18200"
            ]
          },
          "execution_count": 8,
          "metadata": {},
          "output_type": "execute_result"
        }
      ],
      "source": [
        "(len(x_grid))*len(y_grid)"
      ]
    },
    {
      "cell_type": "code",
      "execution_count": 9,
      "metadata": {
        "id": "_ZrUcGpA35nK"
      },
      "outputs": [],
      "source": [
        "mapa_2 = mapa.copy()"
      ]
    },
    {
      "cell_type": "code",
      "execution_count": 10,
      "metadata": {
        "colab": {
          "base_uri": "https://localhost:8080/",
          "height": 206
        },
        "id": "Wu2JP5Mz7SN4",
        "outputId": "307337d5-16d1-444d-b3d4-3e26d8140f32"
      },
      "outputs": [
        {
          "data": {
            "text/html": [
              "<div>\n",
              "<style scoped>\n",
              "    .dataframe tbody tr th:only-of-type {\n",
              "        vertical-align: middle;\n",
              "    }\n",
              "\n",
              "    .dataframe tbody tr th {\n",
              "        vertical-align: top;\n",
              "    }\n",
              "\n",
              "    .dataframe thead th {\n",
              "        text-align: right;\n",
              "    }\n",
              "</style>\n",
              "<table border=\"1\" class=\"dataframe\">\n",
              "  <thead>\n",
              "    <tr style=\"text-align: right;\">\n",
              "      <th></th>\n",
              "      <th>x grid</th>\n",
              "      <th>y grid</th>\n",
              "      <th>weight</th>\n",
              "    </tr>\n",
              "  </thead>\n",
              "  <tbody>\n",
              "    <tr>\n",
              "      <th>0</th>\n",
              "      <td>450</td>\n",
              "      <td>362</td>\n",
              "      <td>100</td>\n",
              "    </tr>\n",
              "    <tr>\n",
              "      <th>1</th>\n",
              "      <td>451</td>\n",
              "      <td>362</td>\n",
              "      <td>100</td>\n",
              "    </tr>\n",
              "    <tr>\n",
              "      <th>2</th>\n",
              "      <td>452</td>\n",
              "      <td>362</td>\n",
              "      <td>100</td>\n",
              "    </tr>\n",
              "    <tr>\n",
              "      <th>3</th>\n",
              "      <td>453</td>\n",
              "      <td>362</td>\n",
              "      <td>100</td>\n",
              "    </tr>\n",
              "    <tr>\n",
              "      <th>4</th>\n",
              "      <td>453</td>\n",
              "      <td>362</td>\n",
              "      <td>100</td>\n",
              "    </tr>\n",
              "  </tbody>\n",
              "</table>\n",
              "</div>"
            ],
            "text/plain": [
              "   x grid  y grid  weight\n",
              "0     450     362     100\n",
              "1     451     362     100\n",
              "2     452     362     100\n",
              "3     453     362     100\n",
              "4     453     362     100"
            ]
          },
          "execution_count": 10,
          "metadata": {},
          "output_type": "execute_result"
        }
      ],
      "source": [
        "mapa_2.head()"
      ]
    },
    {
      "cell_type": "code",
      "execution_count": 11,
      "metadata": {
        "id": "U9JbYUWH3iL6"
      },
      "outputs": [],
      "source": [
        "\n",
        "for i, x in enumerate(x_grid):\n",
        "  mapa_2[\"x grid\"][mapa_2.iloc[:, 0]==x] = i\n",
        "for j, y in enumerate(y_grid):\n",
        "  mapa_2[\"y grid\"][mapa_2.iloc[:, 1]==y] = j\n"
      ]
    },
    {
      "cell_type": "code",
      "execution_count": 12,
      "metadata": {
        "colab": {
          "base_uri": "https://localhost:8080/",
          "height": 206
        },
        "id": "VIOLs0HC8FoR",
        "outputId": "3a7b110c-4dee-4664-ffc3-a12aafa7380e"
      },
      "outputs": [
        {
          "data": {
            "text/html": [
              "<div>\n",
              "<style scoped>\n",
              "    .dataframe tbody tr th:only-of-type {\n",
              "        vertical-align: middle;\n",
              "    }\n",
              "\n",
              "    .dataframe tbody tr th {\n",
              "        vertical-align: top;\n",
              "    }\n",
              "\n",
              "    .dataframe thead th {\n",
              "        text-align: right;\n",
              "    }\n",
              "</style>\n",
              "<table border=\"1\" class=\"dataframe\">\n",
              "  <thead>\n",
              "    <tr style=\"text-align: right;\">\n",
              "      <th></th>\n",
              "      <th>x grid</th>\n",
              "      <th>y grid</th>\n",
              "      <th>weight</th>\n",
              "    </tr>\n",
              "  </thead>\n",
              "  <tbody>\n",
              "    <tr>\n",
              "      <th>0</th>\n",
              "      <td>23</td>\n",
              "      <td>52</td>\n",
              "      <td>100</td>\n",
              "    </tr>\n",
              "    <tr>\n",
              "      <th>1</th>\n",
              "      <td>24</td>\n",
              "      <td>52</td>\n",
              "      <td>100</td>\n",
              "    </tr>\n",
              "    <tr>\n",
              "      <th>2</th>\n",
              "      <td>25</td>\n",
              "      <td>52</td>\n",
              "      <td>100</td>\n",
              "    </tr>\n",
              "    <tr>\n",
              "      <th>3</th>\n",
              "      <td>26</td>\n",
              "      <td>52</td>\n",
              "      <td>100</td>\n",
              "    </tr>\n",
              "    <tr>\n",
              "      <th>4</th>\n",
              "      <td>26</td>\n",
              "      <td>52</td>\n",
              "      <td>100</td>\n",
              "    </tr>\n",
              "  </tbody>\n",
              "</table>\n",
              "</div>"
            ],
            "text/plain": [
              "   x grid  y grid  weight\n",
              "0      23      52     100\n",
              "1      24      52     100\n",
              "2      25      52     100\n",
              "3      26      52     100\n",
              "4      26      52     100"
            ]
          },
          "execution_count": 12,
          "metadata": {},
          "output_type": "execute_result"
        }
      ],
      "source": [
        "mapa_2.head()"
      ]
    },
    {
      "cell_type": "code",
      "execution_count": 13,
      "metadata": {
        "id": "2yD1xPJazNqO"
      },
      "outputs": [],
      "source": [
        "grid = np.zeros(len(x_grid)*len(y_grid)).reshape(len(x_grid), len(y_grid))\n",
        "grid = grid + 0.5"
      ]
    },
    {
      "cell_type": "code",
      "execution_count": 14,
      "metadata": {
        "colab": {
          "base_uri": "https://localhost:8080/"
        },
        "id": "6ivKekwyzuH-",
        "outputId": "a8504693-0c9e-4de5-feee-4bf55959df5f"
      },
      "outputs": [
        {
          "data": {
            "text/plain": [
              "array([[0.5, 0.5, 0.5, ..., 0.5, 0.5, 0.5],\n",
              "       [0.5, 0.5, 0.5, ..., 0.5, 0.5, 0.5],\n",
              "       [0.5, 0.5, 0.5, ..., 0.5, 0.5, 0.5],\n",
              "       ...,\n",
              "       [0.5, 0.5, 0.5, ..., 0.5, 0.5, 0.5],\n",
              "       [0.5, 0.5, 0.5, ..., 0.5, 0.5, 0.5],\n",
              "       [0.5, 0.5, 0.5, ..., 0.5, 0.5, 0.5]])"
            ]
          },
          "execution_count": 14,
          "metadata": {},
          "output_type": "execute_result"
        }
      ],
      "source": [
        "grid"
      ]
    },
    {
      "cell_type": "code",
      "execution_count": 15,
      "metadata": {
        "id": "xz7eTFscx54W"
      },
      "outputs": [],
      "source": [
        "for i, v in enumerate(mapa_2.values):\n",
        "  if v[2] == 100:\n",
        "    grid[v[0], v[1]] = grid[v[0], v[1]] * 0.6\n",
        "  elif v[2] == 0:\n",
        "    grid[v[0], v[1]] = grid[v[0], v[1]] * 1.5"
      ]
    },
    {
      "cell_type": "code",
      "execution_count": 16,
      "metadata": {
        "id": "d14al_HuNY3K"
      },
      "outputs": [],
      "source": [
        "grid = np.around(grid, 2)"
      ]
    },
    {
      "cell_type": "code",
      "execution_count": 17,
      "metadata": {
        "colab": {
          "base_uri": "https://localhost:8080/"
        },
        "id": "ntlocU_c8p7K",
        "outputId": "837b26e5-1252-41ec-e810-1b7dba162e7d"
      },
      "outputs": [
        {
          "data": {
            "text/plain": [
              "array([0.000e+00, 1.000e-02, 2.000e-02, 3.000e-02, 4.000e-02, 5.000e-02,\n",
              "       6.000e-02, 7.000e-02, 8.000e-02, 9.000e-02, 1.000e-01, 1.100e-01,\n",
              "       1.200e-01, 1.300e-01, 1.500e-01, 1.600e-01, 1.800e-01, 2.000e-01,\n",
              "       2.200e-01, 2.400e-01, 2.700e-01, 3.000e-01, 3.300e-01, 3.600e-01,\n",
              "       4.000e-01, 4.400e-01, 4.500e-01, 4.900e-01, 5.000e-01, 5.500e-01,\n",
              "       6.100e-01, 6.600e-01, 6.800e-01, 7.400e-01, 7.500e-01, 8.100e-01,\n",
              "       8.200e-01, 9.100e-01, 1.010e+00, 1.110e+00, 1.120e+00, 1.230e+00,\n",
              "       1.370e+00, 1.490e+00, 1.520e+00, 1.660e+00, 1.690e+00, 1.850e+00,\n",
              "       2.050e+00, 2.280e+00, 2.530e+00, 2.770e+00, 3.080e+00, 3.420e+00,\n",
              "       3.740e+00, 3.800e+00, 4.150e+00, 4.610e+00, 5.130e+00, 5.610e+00,\n",
              "       5.700e+00, 6.920e+00, 7.690e+00, 8.540e+00, 1.281e+01, 1.557e+01,\n",
              "       1.922e+01, 2.595e+01, 2.883e+01, 4.325e+01])"
            ]
          },
          "execution_count": 17,
          "metadata": {},
          "output_type": "execute_result"
        }
      ],
      "source": [
        "np.unique(grid)"
      ]
    },
    {
      "cell_type": "code",
      "execution_count": 18,
      "metadata": {
        "colab": {
          "base_uri": "https://localhost:8080/",
          "height": 206
        },
        "id": "ZCXHqNsBQEp-",
        "outputId": "ca5b3971-3820-41bd-ea62-1846b2024e3b"
      },
      "outputs": [
        {
          "data": {
            "text/html": [
              "<div>\n",
              "<style scoped>\n",
              "    .dataframe tbody tr th:only-of-type {\n",
              "        vertical-align: middle;\n",
              "    }\n",
              "\n",
              "    .dataframe tbody tr th {\n",
              "        vertical-align: top;\n",
              "    }\n",
              "\n",
              "    .dataframe thead th {\n",
              "        text-align: right;\n",
              "    }\n",
              "</style>\n",
              "<table border=\"1\" class=\"dataframe\">\n",
              "  <thead>\n",
              "    <tr style=\"text-align: right;\">\n",
              "      <th></th>\n",
              "      <th>x grid</th>\n",
              "      <th>y grid</th>\n",
              "      <th>weight</th>\n",
              "    </tr>\n",
              "  </thead>\n",
              "  <tbody>\n",
              "    <tr>\n",
              "      <th>0</th>\n",
              "      <td>0.0</td>\n",
              "      <td>0.0</td>\n",
              "      <td>0.0</td>\n",
              "    </tr>\n",
              "    <tr>\n",
              "      <th>1</th>\n",
              "      <td>0.0</td>\n",
              "      <td>0.0</td>\n",
              "      <td>0.0</td>\n",
              "    </tr>\n",
              "    <tr>\n",
              "      <th>2</th>\n",
              "      <td>0.0</td>\n",
              "      <td>0.0</td>\n",
              "      <td>0.0</td>\n",
              "    </tr>\n",
              "    <tr>\n",
              "      <th>3</th>\n",
              "      <td>0.0</td>\n",
              "      <td>0.0</td>\n",
              "      <td>0.0</td>\n",
              "    </tr>\n",
              "    <tr>\n",
              "      <th>4</th>\n",
              "      <td>0.0</td>\n",
              "      <td>0.0</td>\n",
              "      <td>0.0</td>\n",
              "    </tr>\n",
              "  </tbody>\n",
              "</table>\n",
              "</div>"
            ],
            "text/plain": [
              "   x grid  y grid  weight\n",
              "0     0.0     0.0     0.0\n",
              "1     0.0     0.0     0.0\n",
              "2     0.0     0.0     0.0\n",
              "3     0.0     0.0     0.0\n",
              "4     0.0     0.0     0.0"
            ]
          },
          "execution_count": 18,
          "metadata": {},
          "output_type": "execute_result"
        }
      ],
      "source": [
        "x, y = grid.shape\n",
        "d = {'x grid': np.zeros(x*y), 'y grid': np.zeros(x*y), 'weight': np.zeros(x*y)}\n",
        "df = pd.DataFrame(data=d)\n",
        "df.head()"
      ]
    },
    {
      "cell_type": "code",
      "execution_count": 19,
      "metadata": {
        "id": "xBA_uheTPwJB"
      },
      "outputs": [],
      "source": [
        "aux = 0\n",
        "for i in range(x):\n",
        "  for j in range(y):\n",
        "    df.iloc[aux]['x grid'] = int(i)\n",
        "    df.iloc[aux]['y grid'] = int(j)\n",
        "    df.iloc[aux]['weight'] = grid[i, j]\n",
        "    aux = aux + 1"
      ]
    },
    {
      "cell_type": "code",
      "execution_count": 20,
      "metadata": {
        "colab": {
          "base_uri": "https://localhost:8080/",
          "height": 206
        },
        "id": "Bz2W7vScUARO",
        "outputId": "327cb4e6-946c-4a19-f70c-e12fa6e1128a"
      },
      "outputs": [
        {
          "data": {
            "text/html": [
              "<div>\n",
              "<style scoped>\n",
              "    .dataframe tbody tr th:only-of-type {\n",
              "        vertical-align: middle;\n",
              "    }\n",
              "\n",
              "    .dataframe tbody tr th {\n",
              "        vertical-align: top;\n",
              "    }\n",
              "\n",
              "    .dataframe thead th {\n",
              "        text-align: right;\n",
              "    }\n",
              "</style>\n",
              "<table border=\"1\" class=\"dataframe\">\n",
              "  <thead>\n",
              "    <tr style=\"text-align: right;\">\n",
              "      <th></th>\n",
              "      <th>x grid</th>\n",
              "      <th>y grid</th>\n",
              "      <th>weight</th>\n",
              "    </tr>\n",
              "  </thead>\n",
              "  <tbody>\n",
              "    <tr>\n",
              "      <th>0</th>\n",
              "      <td>0.0</td>\n",
              "      <td>0.0</td>\n",
              "      <td>0.5</td>\n",
              "    </tr>\n",
              "    <tr>\n",
              "      <th>1</th>\n",
              "      <td>0.0</td>\n",
              "      <td>1.0</td>\n",
              "      <td>0.5</td>\n",
              "    </tr>\n",
              "    <tr>\n",
              "      <th>2</th>\n",
              "      <td>0.0</td>\n",
              "      <td>2.0</td>\n",
              "      <td>0.5</td>\n",
              "    </tr>\n",
              "    <tr>\n",
              "      <th>3</th>\n",
              "      <td>0.0</td>\n",
              "      <td>3.0</td>\n",
              "      <td>0.5</td>\n",
              "    </tr>\n",
              "    <tr>\n",
              "      <th>4</th>\n",
              "      <td>0.0</td>\n",
              "      <td>4.0</td>\n",
              "      <td>0.5</td>\n",
              "    </tr>\n",
              "  </tbody>\n",
              "</table>\n",
              "</div>"
            ],
            "text/plain": [
              "   x grid  y grid  weight\n",
              "0     0.0     0.0     0.5\n",
              "1     0.0     1.0     0.5\n",
              "2     0.0     2.0     0.5\n",
              "3     0.0     3.0     0.5\n",
              "4     0.0     4.0     0.5"
            ]
          },
          "execution_count": 20,
          "metadata": {},
          "output_type": "execute_result"
        }
      ],
      "source": [
        "df.head()"
      ]
    },
    {
      "cell_type": "code",
      "execution_count": 21,
      "metadata": {
        "id": "InD_rQ5IVBTW"
      },
      "outputs": [],
      "source": [
        "df['weight'][(df['weight']<0.5) & (df['weight']!=0.5)] = 100\n",
        "df['weight'][df['weight']==0.5] = 50\n",
        "df['weight'][(df['weight']>0.5) & (df['weight']<50)] = 0"
      ]
    },
    {
      "cell_type": "code",
      "execution_count": 22,
      "metadata": {
        "colab": {
          "base_uri": "https://localhost:8080/",
          "height": 206
        },
        "id": "poZqwiZyWQ54",
        "outputId": "67bd054b-7949-4f67-801d-eec964ac3a18"
      },
      "outputs": [
        {
          "data": {
            "text/html": [
              "<div>\n",
              "<style scoped>\n",
              "    .dataframe tbody tr th:only-of-type {\n",
              "        vertical-align: middle;\n",
              "    }\n",
              "\n",
              "    .dataframe tbody tr th {\n",
              "        vertical-align: top;\n",
              "    }\n",
              "\n",
              "    .dataframe thead th {\n",
              "        text-align: right;\n",
              "    }\n",
              "</style>\n",
              "<table border=\"1\" class=\"dataframe\">\n",
              "  <thead>\n",
              "    <tr style=\"text-align: right;\">\n",
              "      <th></th>\n",
              "      <th>x grid</th>\n",
              "      <th>y grid</th>\n",
              "      <th>weight</th>\n",
              "    </tr>\n",
              "  </thead>\n",
              "  <tbody>\n",
              "    <tr>\n",
              "      <th>0</th>\n",
              "      <td>0.0</td>\n",
              "      <td>0.0</td>\n",
              "      <td>50.0</td>\n",
              "    </tr>\n",
              "    <tr>\n",
              "      <th>1</th>\n",
              "      <td>0.0</td>\n",
              "      <td>1.0</td>\n",
              "      <td>50.0</td>\n",
              "    </tr>\n",
              "    <tr>\n",
              "      <th>2</th>\n",
              "      <td>0.0</td>\n",
              "      <td>2.0</td>\n",
              "      <td>50.0</td>\n",
              "    </tr>\n",
              "    <tr>\n",
              "      <th>3</th>\n",
              "      <td>0.0</td>\n",
              "      <td>3.0</td>\n",
              "      <td>50.0</td>\n",
              "    </tr>\n",
              "    <tr>\n",
              "      <th>4</th>\n",
              "      <td>0.0</td>\n",
              "      <td>4.0</td>\n",
              "      <td>50.0</td>\n",
              "    </tr>\n",
              "  </tbody>\n",
              "</table>\n",
              "</div>"
            ],
            "text/plain": [
              "   x grid  y grid  weight\n",
              "0     0.0     0.0    50.0\n",
              "1     0.0     1.0    50.0\n",
              "2     0.0     2.0    50.0\n",
              "3     0.0     3.0    50.0\n",
              "4     0.0     4.0    50.0"
            ]
          },
          "execution_count": 22,
          "metadata": {},
          "output_type": "execute_result"
        }
      ],
      "source": [
        "df.head()"
      ]
    },
    {
      "cell_type": "code",
      "execution_count": 23,
      "metadata": {},
      "outputs": [
        {
          "data": {
            "text/plain": [
              "array([  0.,  50., 100.])"
            ]
          },
          "execution_count": 23,
          "metadata": {},
          "output_type": "execute_result"
        }
      ],
      "source": [
        "np.unique(df.weight)"
      ]
    },
    {
      "cell_type": "code",
      "execution_count": 24,
      "metadata": {
        "colab": {
          "base_uri": "https://localhost:8080/",
          "height": 265
        },
        "id": "HYBcQiZzT3nU",
        "outputId": "11bd5b22-6833-467e-8aa5-fa3aaea1aed0"
      },
      "outputs": [
        {
          "data": {
            "image/png": "[encoded data removed]",
            "text/plain": [
              "<Figure size 432x288 with 1 Axes>"
            ]
          },
          "metadata": {
            "needs_background": "light"
          },
          "output_type": "display_data"
        }
      ],
      "source": [
        "plt.scatter(df[\"x grid\"], df[\"y grid\"], s=0.5, c = df[\"weight\"])\n",
        "plt.savefig('mapa_2_4cm',dpi = 2000)\n",
        "plt.show()"
      ]
    },
    {
      "cell_type": "code",
      "execution_count": 25,
      "metadata": {
        "id": "VXuGHwDzf1Ag"
      },
      "outputs": [],
      "source": [
        "df.to_csv('mapa_2_4cm_limpo.csv', index=False)"
      ]
    },
    {
      "cell_type": "markdown",
      "metadata": {
        "id": "k-5Lnm0YrIjm"
      },
      "source": [
        "# Identificação de objetos"
      ]
    },
    {
      "cell_type": "code",
      "execution_count": 26,
      "metadata": {
        "colab": {
          "base_uri": "https://localhost:8080/",
          "height": 206
        },
        "id": "Y7jNBPcIrW-5",
        "outputId": "623992b2-251c-4a37-8d4e-804ee0f83f4b"
      },
      "outputs": [
        {
          "data": {
            "text/html": [
              "<div>\n",
              "<style scoped>\n",
              "    .dataframe tbody tr th:only-of-type {\n",
              "        vertical-align: middle;\n",
              "    }\n",
              "\n",
              "    .dataframe tbody tr th {\n",
              "        vertical-align: top;\n",
              "    }\n",
              "\n",
              "    .dataframe thead th {\n",
              "        text-align: right;\n",
              "    }\n",
              "</style>\n",
              "<table border=\"1\" class=\"dataframe\">\n",
              "  <thead>\n",
              "    <tr style=\"text-align: right;\">\n",
              "      <th></th>\n",
              "      <th>x grid</th>\n",
              "      <th>y grid</th>\n",
              "      <th>weight</th>\n",
              "    </tr>\n",
              "  </thead>\n",
              "  <tbody>\n",
              "    <tr>\n",
              "      <th>64</th>\n",
              "      <td>0.0</td>\n",
              "      <td>64.0</td>\n",
              "      <td>0.0</td>\n",
              "    </tr>\n",
              "    <tr>\n",
              "      <th>65</th>\n",
              "      <td>0.0</td>\n",
              "      <td>65.0</td>\n",
              "      <td>0.0</td>\n",
              "    </tr>\n",
              "    <tr>\n",
              "      <th>66</th>\n",
              "      <td>0.0</td>\n",
              "      <td>66.0</td>\n",
              "      <td>0.0</td>\n",
              "    </tr>\n",
              "    <tr>\n",
              "      <th>192</th>\n",
              "      <td>1.0</td>\n",
              "      <td>62.0</td>\n",
              "      <td>0.0</td>\n",
              "    </tr>\n",
              "    <tr>\n",
              "      <th>193</th>\n",
              "      <td>1.0</td>\n",
              "      <td>63.0</td>\n",
              "      <td>0.0</td>\n",
              "    </tr>\n",
              "  </tbody>\n",
              "</table>\n",
              "</div>"
            ],
            "text/plain": [
              "     x grid  y grid  weight\n",
              "64      0.0    64.0     0.0\n",
              "65      0.0    65.0     0.0\n",
              "66      0.0    66.0     0.0\n",
              "192     1.0    62.0     0.0\n",
              "193     1.0    63.0     0.0"
            ]
          },
          "execution_count": 26,
          "metadata": {},
          "output_type": "execute_result"
        }
      ],
      "source": [
        "df_ocupados = df[df['weight']==0]\n",
        "df_ocupados.head()"
      ]
    },
    {
      "cell_type": "code",
      "execution_count": 27,
      "metadata": {
        "colab": {
          "base_uri": "https://localhost:8080/"
        },
        "id": "yW19OWb0vrFJ",
        "outputId": "c15d5ffd-56e2-4b19-ce85-1cf4bfb564d0"
      },
      "outputs": [
        {
          "data": {
            "text/plain": [
              "(399, 3)"
            ]
          },
          "execution_count": 27,
          "metadata": {},
          "output_type": "execute_result"
        }
      ],
      "source": [
        "df_ocupados.shape"
      ]
    },
    {
      "cell_type": "code",
      "execution_count": 28,
      "metadata": {
        "id": "xNY09LdgsgEC"
      },
      "outputs": [],
      "source": [
        "for x in df_ocupados.values:\n",
        "  for i in range(3):\n",
        "    for j in range(3):\n",
        "      pass"
      ]
    },
    {
      "cell_type": "code",
      "execution_count": 29,
      "metadata": {
        "id": "E1vDdr7itazT"
      },
      "outputs": [],
      "source": [
        "if 0 in dict(df_ocupados.iloc[:,:-1]):\n",
        "  print(\"true\")"
      ]
    },
    {
      "cell_type": "code",
      "execution_count": 30,
      "metadata": {
        "colab": {
          "base_uri": "https://localhost:8080/"
        },
        "id": "joOuHN4DvJx0",
        "outputId": "79237c8b-b450-49a9-83f9-66f1063ee419"
      },
      "outputs": [
        {
          "data": {
            "text/plain": [
              "{'x grid': 64         0.0\n",
              " 65         0.0\n",
              " 66         0.0\n",
              " 192        1.0\n",
              " 193        1.0\n",
              "          ...  \n",
              " 17988    138.0\n",
              " 17993    138.0\n",
              " 18119    139.0\n",
              " 18121    139.0\n",
              " 18122    139.0\n",
              " Name: x grid, Length: 399, dtype: float64,\n",
              " 'y grid': 64       64.0\n",
              " 65       65.0\n",
              " 66       66.0\n",
              " 192      62.0\n",
              " 193      63.0\n",
              "          ... \n",
              " 17988    48.0\n",
              " 17993    53.0\n",
              " 18119    49.0\n",
              " 18121    51.0\n",
              " 18122    52.0\n",
              " Name: y grid, Length: 399, dtype: float64}"
            ]
          },
          "execution_count": 30,
          "metadata": {},
          "output_type": "execute_result"
        }
      ],
      "source": [
        "dict(df_ocupados.iloc[:,:-1])"
      ]
    }
  ],
  "metadata": {
    "colab": {
      "provenance": []
    },
    "kernelspec": {
      "display_name": "p37",
      "language": "python",
      "name": "python3"
    },
    "language_info": {
      "codemirror_mode": {
        "name": "ipython",
        "version": 3
      },
      "file_extension": ".py",
      "mimetype": "text/x-python",
      "name": "python",
      "nbconvert_exporter": "python",
      "pygments_lexer": "ipython3",
      "version": "3.7.13 (default, Mar 28 2022, 08:03:21) [MSC v.1916 64 bit (AMD64)]"
    },
    "vscode": {
      "interpreter": {
        "hash": "f9b53f1170c64482d885b10384497ac63417a5cdae27a7de25292481bdce470e"
      }
    }
  },
  "nbformat": 4,
  "nbformat_minor": 0
}
