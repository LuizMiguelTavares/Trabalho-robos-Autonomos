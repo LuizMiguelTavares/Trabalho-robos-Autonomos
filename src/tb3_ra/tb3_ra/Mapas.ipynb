{
  "nbformat": 4,
  "nbformat_minor": 0,
  "metadata": {
    "colab": {
      "provenance": []
    },
    "kernelspec": {
      "name": "python3",
      "display_name": "Python 3"
    },
    "language_info": {
      "name": "python"
    }
  },
  "cells": [
    {
      "cell_type": "code",
      "execution_count": null,
      "metadata": {
        "id": "wOHChM2x42at"
      },
      "outputs": [],
      "source": [
        "import numpy as np\n",
        "import pandas as pd\n",
        "from scipy.cluster.hierarchy import linkage, dendrogram, cut_tree\n",
        "from sklearn.datasets import make_blobs\n",
        "import matplotlib.pyplot as plt\n",
        "\n",
        "PATH = '/content/drive/MyDrive/Colab Notebooks/Robotica/dados/'\n"
      ]
    },
    {
      "cell_type": "code",
      "source": [
        "def calc_hierarchy(data,n_cluster_max,n_min_pontos):\n",
        "    # Generate sample data\n",
        "    X = data.to_numpy()\n",
        "\n",
        "    # Perform linkage\n",
        "    Z = linkage(X, method='single')\n",
        "\n",
        "\n",
        "    # Cut the dendrogram to obtain clusters\n",
        "    clusters = cut_tree(Z, n_clusters=np.linspace(1,n_cluster_max,n_cluster_max))\n",
        "\n",
        "    for i in range(clusters.shape[1]):\n",
        "        _, counts = np.unique(clusters[:,i], return_counts=True)\n",
        "        if np.min(counts)<n_min_pontos:\n",
        "            cluster = clusters[:,i-1]\n",
        "            break\n",
        "\n",
        "    return cluster\n",
        "\n",
        "\n",
        "\n",
        "def calc_centroid(data):\n",
        "    label, counts = np.unique(data['weight'], return_counts=True)\n",
        "    centroids = []\n",
        "\n",
        "    for classe in label:\n",
        "        aux = data[data['weight']==classe]\n",
        "        x_mean = sum(aux.iloc[:,0].to_numpy())/len(aux)\n",
        "        y_mean = sum(aux.iloc[:,1].to_numpy())/len(aux)\n",
        "        centroids.append((x_mean,y_mean))\n",
        "\n",
        "    return centroids    "
      ],
      "metadata": {
        "id": "-B1ufA0MIOks"
      },
      "execution_count": null,
      "outputs": []
    },
    {
      "cell_type": "code",
      "source": [
        "data = pd.read_csv(PATH + 'mapa_9_07_17_menor05.csv', header = 0, delimiter=',')"
      ],
      "metadata": {
        "id": "TaJMlj2N5msZ"
      },
      "execution_count": null,
      "outputs": []
    },
    {
      "cell_type": "code",
      "source": [
        "data[data.weight==0].shape"
      ],
      "metadata": {
        "colab": {
          "base_uri": "https://localhost:8080/"
        },
        "id": "LLqtNbxm5muk",
        "outputId": "fb204e0d-78e3-4220-bb04-5ec69fccf73a"
      },
      "execution_count": null,
      "outputs": [
        {
          "output_type": "execute_result",
          "data": {
            "text/plain": [
              "(721, 3)"
            ]
          },
          "metadata": {},
          "execution_count": 23
        }
      ]
    },
    {
      "cell_type": "code",
      "source": [
        "data_ocupado = data[data['weight']==0] \n",
        "data_ocupado.iloc[:,0:2].to_numpy()"
      ],
      "metadata": {
        "colab": {
          "base_uri": "https://localhost:8080/"
        },
        "id": "oMUswPXvIOiW",
        "outputId": "e3ebfd5a-a046-47f4-a03f-1820a0d2a711"
      },
      "execution_count": null,
      "outputs": [
        {
          "output_type": "execute_result",
          "data": {
            "text/plain": [
              "array([[  0.,  51.],\n",
              "       [  0.,  52.],\n",
              "       [  1.,  49.],\n",
              "       ...,\n",
              "       [112.,  63.],\n",
              "       [112.,  64.],\n",
              "       [113.,  41.]])"
            ]
          },
          "metadata": {},
          "execution_count": 24
        }
      ]
    },
    {
      "cell_type": "code",
      "source": [
        "cluster = calc_hierarchy(data_ocupado.iloc[:,0:2],12,10)"
      ],
      "metadata": {
        "id": "HSUHxbWDwWSs"
      },
      "execution_count": null,
      "outputs": []
    },
    {
      "cell_type": "code",
      "source": [
        "#plt.scatter(data_ocupado[\"x grid\"], data_ocupado[\"y grid\"], s=1, c = data_ocupado[\"weight\"])"
      ],
      "metadata": {
        "id": "HCfz0w66TUlM"
      },
      "execution_count": null,
      "outputs": []
    },
    {
      "cell_type": "code",
      "source": [
        "test = pd.DataFrame(cluster)\n",
        "\n",
        "\n",
        "data_ocupado['weight'] = test.values\n",
        "\n",
        "data_ocupado\n",
        "\n",
        "plt.scatter(data_ocupado[\"x grid\"], data_ocupado[\"y grid\"], s=1, c = data_ocupado[\"weight\"])"
      ],
      "metadata": {
        "colab": {
          "base_uri": "https://localhost:8080/",
          "height": 387
        },
        "id": "GSXxMWu3TjMR",
        "outputId": "d9998326-415b-42a6-fa3e-89074c72a0cf"
      },
      "execution_count": null,
      "outputs": [
        {
          "output_type": "stream",
          "name": "stderr",
          "text": [
            "<ipython-input-28-6122da4fa1f8>:4: SettingWithCopyWarning: \n",
            "A value is trying to be set on a copy of a slice from a DataFrame.\n",
            "Try using .loc[row_indexer,col_indexer] = value instead\n",
            "\n",
            "See the caveats in the documentation: https://pandas.pydata.org/pandas-docs/stable/user_guide/indexing.html#returning-a-view-versus-a-copy\n",
            "  data_ocupado['weight'] = test.values\n"
          ]
        },
        {
          "output_type": "execute_result",
          "data": {
            "text/plain": [
              "<matplotlib.collections.PathCollection at 0x7fa22750cf40>"
            ]
          },
          "metadata": {},
          "execution_count": 28
        },
        {
          "output_type": "display_data",
          "data": {
            "text/plain": [
              "<Figure size 432x288 with 1 Axes>"
            ],
            "image/png": "[encoded data removed]"
          },
          "metadata": {
            "needs_background": "light"
          }
        }
      ]
    },
    {
      "cell_type": "code",
      "source": [
        "calc_centroid(data_ocupado)"
      ],
      "metadata": {
        "colab": {
          "base_uri": "https://localhost:8080/"
        },
        "id": "VaUOtUbjxirc",
        "outputId": "31739713-2736-4259-df48-d32b6c671a53"
      },
      "execution_count": null,
      "outputs": [
        {
          "output_type": "execute_result",
          "data": {
            "text/plain": [
              "[(56.15807560137457, 53.08247422680412),\n",
              " (37.07142857142857, 30.142857142857142),\n",
              " (37.666666666666664, 52.13333333333333),\n",
              " (38.2, 72.13333333333334),\n",
              " (58.94444444444444, 29.055555555555557),\n",
              " (59.22222222222222, 51.05555555555556),\n",
              " (59.357142857142854, 73.07142857142857),\n",
              " (80.94444444444444, 73.22222222222223),\n",
              " (80.57142857142857, 29.428571428571427),\n",
              " (80.53846153846153, 51.84615384615385)]"
            ]
          },
          "metadata": {},
          "execution_count": 36
        }
      ]
    }
  ]
}